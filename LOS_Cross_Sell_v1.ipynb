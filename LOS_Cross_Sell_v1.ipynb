{
  "nbformat": 4,
  "nbformat_minor": 0,
  "metadata": {
    "colab": {
      "provenance": [],
      "mount_file_id": "13ETAlxK_e_sKXAhVkrWdqqA6RAzTaJAX",
      "authorship_tag": "ABX9TyOPDzkEXw0W7giY3ZM5je5F",
      "include_colab_link": true
    },
    "kernelspec": {
      "name": "python3",
      "display_name": "Python 3"
    },
    "language_info": {
      "name": "python"
    }
  },
  "cells": [
    {
      "cell_type": "markdown",
      "metadata": {
        "id": "view-in-github",
        "colab_type": "text"
      },
      "source": [
        "<a href=\"https://colab.research.google.com/github/xiaoqing16/A-Machine-Learning-Model-to-Diagnose-Depression-using-EEG-Data/blob/main/LOS_Cross_Sell_v1.ipynb\" target=\"_parent\"><img src=\"https://colab.research.google.com/assets/colab-badge.svg\" alt=\"Open In Colab\"/></a>"
      ]
    },
    {
      "cell_type": "code",
      "execution_count": 32,
      "metadata": {
        "id": "UlAQvm6LyQSg"
      },
      "outputs": [],
      "source": [
        "# load libraries\n",
        "import pandas as pd\n",
        "import numpy as np\n",
        "import matplotlib.pyplot as plt\n",
        "import seaborn as sns"
      ]
    },
    {
      "cell_type": "code",
      "source": [
        "pd.set_option('display.max_columns', None)\n",
        "pd.set_option('display.max_rows', None)"
      ],
      "metadata": {
        "id": "nRfhpmt69jV8"
      },
      "execution_count": 10,
      "outputs": []
    },
    {
      "cell_type": "code",
      "source": [
        "from google.colab import drive\n",
        "drive.mount('/content/drive/')"
      ],
      "metadata": {
        "id": "dSO1SXnnSCV1",
        "colab": {
          "base_uri": "https://localhost:8080/"
        },
        "outputId": "a8f60843-6b10-41bc-854a-5c94d18507ef"
      },
      "execution_count": 11,
      "outputs": [
        {
          "output_type": "stream",
          "name": "stdout",
          "text": [
            "Drive already mounted at /content/drive/; to attempt to forcibly remount, call drive.mount(\"/content/drive/\", force_remount=True).\n"
          ]
        }
      ]
    },
    {
      "cell_type": "code",
      "source": [
        "# import data\n",
        "%cd /content/drive/My Drive/Colab Notebooks/Data/Cross_Sell\n",
        "data = pd.read_table(\"LOS_Cross_Sell_v1.txt\", delimiter=\"|\")\n",
        "data.info()"
      ],
      "metadata": {
        "id": "8FB8ABDBSZw6",
        "colab": {
          "base_uri": "https://localhost:8080/"
        },
        "outputId": "30bb9633-ff9f-418e-ff3f-46dc4c30a742"
      },
      "execution_count": 35,
      "outputs": [
        {
          "output_type": "stream",
          "name": "stdout",
          "text": [
            "/content/drive/My Drive/Colab Notebooks/Data/Cross_Sell\n",
            "<class 'pandas.core.frame.DataFrame'>\n",
            "RangeIndex: 372842 entries, 0 to 372841\n",
            "Data columns (total 57 columns):\n",
            " #   Column                      Non-Null Count   Dtype  \n",
            "---  ------                      --------------   -----  \n",
            " 0   #customernumber             372842 non-null  int64  \n",
            " 1   sex                         372842 non-null  object \n",
            " 2   calc_customerinfo_age       372842 non-null  int64  \n",
            " 3   nationality                 372842 non-null  object \n",
            " 4   residencystatus             372641 non-null  object \n",
            " 5   race                        372842 non-null  int64  \n",
            " 6   maritalstatus               372842 non-null  int64  \n",
            " 7   academicqualification       131855 non-null  float64\n",
            " 8   staywith                    342439 non-null  float64\n",
            " 9   numberofdependent           372833 non-null  float64\n",
            " 10  employmenttype              372828 non-null  float64\n",
            " 11  businessnature              372840 non-null  float64\n",
            " 12  residentialpostcode         372840 non-null  float64\n",
            " 13  residentialstatecode        372839 non-null  object \n",
            " 14  residentialcity             372841 non-null  object \n",
            " 15  employerstatecode           372840 non-null  object \n",
            " 16  jobtitle                    372654 non-null  object \n",
            " 17  yearofservices              372669 non-null  float64\n",
            " 18  grosssalary                 372656 non-null  float64\n",
            " 19  nettsalary                  372656 non-null  float64\n",
            " 20  annualincome                372656 non-null  float64\n",
            " 21  paysliptype                 372404 non-null  float64\n",
            " 22  totalapplicationcount       372842 non-null  int64  \n",
            " 23  epcreditlostcount           372842 non-null  int64  \n",
            " 24  epactivecount               372842 non-null  int64  \n",
            " 25  akpk                        372842 non-null  int64  \n",
            " 26  fraud                       372842 non-null  int64  \n",
            " 27  riskgroup                   372842 non-null  int64  \n",
            " 28  productlimitoutstanding     372842 non-null  float64\n",
            " 29  eppflimitoutstanding        372842 non-null  float64\n",
            " 30  commitmentnetsalary         372842 non-null  float64\n",
            " 31  totalcommitment             372842 non-null  float64\n",
            " 32  totalinstallment            372842 non-null  float64\n",
            " 33  nonbankcommitment           372842 non-null  float64\n",
            " 34  first_eppfhistory           88572 non-null   float64\n",
            " 35  passscoringflag             334143 non-null  object \n",
            " 36  finalscore                  333905 non-null  float64\n",
            " 37  currentrepaymentratio       363240 non-null  float64\n",
            " 38  newdsr                      363240 non-null  float64\n",
            " 39  scorerank                   363196 non-null  object \n",
            " 40  newrepaymentratio           363240 non-null  float64\n",
            " 41  netdisposableincome         363240 non-null  float64\n",
            " 42  min_cashprice               372707 non-null  float64\n",
            " 43  average_cashprice           372707 non-null  float64\n",
            " 44  max_cashprice               372707 non-null  float64\n",
            " 45  min_financeprice            372707 non-null  float64\n",
            " 46  average_financeprice        372707 non-null  float64\n",
            " 47  max_financeprice            372707 non-null  float64\n",
            " 48  average_interest            372842 non-null  float64\n",
            " 49  average_term                372842 non-null  float64\n",
            " 50  average_monthly_instalment  372842 non-null  float64\n",
            " 51  total_approved_record       372842 non-null  int64  \n",
            " 52  total_declined_record       372842 non-null  int64  \n",
            " 53  app_channel_online          372842 non-null  int64  \n",
            " 54  app_channel_offline         372842 non-null  int64  \n",
            " 55  app_channel_internal        372842 non-null  int64  \n",
            " 56  target                      372842 non-null  int64  \n",
            "dtypes: float64(32), int64(16), object(9)\n",
            "memory usage: 162.1+ MB\n"
          ]
        }
      ]
    },
    {
      "cell_type": "code",
      "source": [
        "# check how many data is null\n",
        "data.isnull().sum()"
      ],
      "metadata": {
        "id": "6S4sE1fQCFId",
        "colab": {
          "base_uri": "https://localhost:8080/"
        },
        "outputId": "0c08083b-78da-4a2d-9915-9023fe746152"
      },
      "execution_count": 13,
      "outputs": [
        {
          "output_type": "execute_result",
          "data": {
            "text/plain": [
              "#customernumber                    0\n",
              "sex                                0\n",
              "calc_customerinfo_age              0\n",
              "nationality                        0\n",
              "residencystatus                  201\n",
              "race                               0\n",
              "maritalstatus                      0\n",
              "academicqualification         240987\n",
              "staywith                       30403\n",
              "numberofdependent                  9\n",
              "employmenttype                    14\n",
              "businessnature                     2\n",
              "residentialpostcode                2\n",
              "residentialstatecode               3\n",
              "residentialcity                    1\n",
              "employerstatecode                  2\n",
              "jobtitle                         188\n",
              "yearofservices                   173\n",
              "grosssalary                      186\n",
              "nettsalary                       186\n",
              "annualincome                     186\n",
              "paysliptype                      438\n",
              "totalapplicationcount              0\n",
              "epcreditlostcount                  0\n",
              "epactivecount                      0\n",
              "akpk                               0\n",
              "fraud                              0\n",
              "riskgroup                          0\n",
              "productlimitoutstanding            0\n",
              "eppflimitoutstanding               0\n",
              "commitmentnetsalary                0\n",
              "totalcommitment                    0\n",
              "totalinstallment                   0\n",
              "nonbankcommitment                  0\n",
              "first_eppfhistory             284270\n",
              "passscoringflag                38699\n",
              "finalscore                     38937\n",
              "currentrepaymentratio           9602\n",
              "newdsr                          9602\n",
              "scorerank                       9646\n",
              "newrepaymentratio               9602\n",
              "netdisposableincome             9602\n",
              "min_cashprice                    135\n",
              "average_cashprice                135\n",
              "max_cashprice                    135\n",
              "min_financeprice                 135\n",
              "average_financeprice             135\n",
              "max_financeprice                 135\n",
              "average_interest                   0\n",
              "average_term                       0\n",
              "average_monthly_instalment         0\n",
              "total_approved_record              0\n",
              "total_declined_record              0\n",
              "app_channel_online                 0\n",
              "app_channel_offline                0\n",
              "app_channel_internal               0\n",
              "target                             0\n",
              "dtype: int64"
            ]
          },
          "metadata": {},
          "execution_count": 13
        }
      ]
    },
    {
      "cell_type": "code",
      "source": [
        "# check how many id is unique\n",
        "uniqueValues = data['#customernumber'].nunique()\n",
        "print(uniqueValues)"
      ],
      "metadata": {
        "id": "qjLr3hudCfd0",
        "colab": {
          "base_uri": "https://localhost:8080/"
        },
        "outputId": "0f505167-7648-4a4b-98d2-fc3e3c0e231e"
      },
      "execution_count": 14,
      "outputs": [
        {
          "output_type": "stream",
          "name": "stdout",
          "text": [
            "372842\n"
          ]
        }
      ]
    },
    {
      "cell_type": "code",
      "source": [
        "# get percentage count of target variable\n",
        "data['target'].value_counts()"
      ],
      "metadata": {
        "id": "cplxVYRYaLVF",
        "colab": {
          "base_uri": "https://localhost:8080/"
        },
        "outputId": "592aed84-d9d2-4e38-d30f-7c7ceea40526"
      },
      "execution_count": 36,
      "outputs": [
        {
          "output_type": "execute_result",
          "data": {
            "text/plain": [
              "0    366374\n",
              "1      6468\n",
              "Name: target, dtype: int64"
            ]
          },
          "metadata": {},
          "execution_count": 36
        }
      ]
    },
    {
      "cell_type": "code",
      "source": [
        "# drop all NA for min_cashprice cuz all the target is zero\n",
        "data = data[data['min_cashprice'].notna()]\n",
        "\n",
        "# drop this colum because most of the value is NA\n",
        "data = data.drop(['academicqualification'], axis=1)\n",
        "\n",
        "# drop gross salary is NA while target is 0 \n",
        "condition = data['target'].eq(0) & data['grosssalary'].isna()\n",
        "data = data.loc[~condition]\n",
        "\n",
        "# drop NA while target is 0\n",
        "condition = data['target'].eq(0) & data['passscoringflag'].isna()\n",
        "data = data.loc[~condition]\n",
        "\n",
        "condition = data['target'].eq(0) & data['finalscore'].isna()\n",
        "data = data.loc[~condition]\n",
        "\n",
        "condition = data['target'].eq(0) & data['currentrepaymentratio'].isna()\n",
        "data = data.loc[~condition]\n",
        "\n",
        "condition = data['target'].eq(0) & data['newdsr'].isna()\n",
        "data = data.loc[~condition]\n",
        "\n",
        "condition = data['target'].eq(0) & data['scorerank'].isna()\n",
        "data = data.loc[~condition]\n",
        "\n",
        "condition = data['target'].eq(0) & data['newrepaymentratio'].isna()\n",
        "data = data.loc[~condition]\n",
        "\n",
        "condition = data['target'].eq(0) & data['netdisposableincome'].isna()\n",
        "data = data.loc[~condition]\n",
        "\n",
        "# replace inconsistence value\n",
        "data['residentialstatecode'] = data['residentialstatecode'].replace(['KUALA LUMPUR'],['WP Kuala Lumpur'])\n",
        "data['employerstatecode'] = data['employerstatecode'].replace(['KUALA LUMPUR'],['WP Kuala Lumpur'])\n",
        "\n",
        "data.at[207914,'residentialcity']='Sibu'\n",
        "data.at[207914,'residentialstatecode']='Sarawak'\n",
        "data.at[207914,'residentialpostcode']='96000'\n",
        "data.at[207914,'employerstatecode']='Sarawak'\n",
        "\n",
        "data.at[103021,'residentialcity']='Alor Setar'\n",
        "data.at[103021,'residentialstatecode']='Kedah'\n",
        "data.at[103021,'residentialpostcode']='05400'\n",
        "data.at[103021,'employerstatecode']='WP Kuala Lumpur'\n",
        "\n",
        "data.at[328413,'residentialstatecode']='Pahang'\n",
        "\n",
        "data.at[149469,'residentialcity']='Tanah Merah'\n",
        "data.at[149469,'residentialstatecode']='Kelantan'\n",
        "data.at[149469,'employerstatecode']='Kelantan'\n",
        "\n",
        "# replace gen"
      ],
      "metadata": {
        "id": "OTfu5euQae9d",
        "colab": {
          "base_uri": "https://localhost:8080/"
        },
        "outputId": "1e470eba-286a-4d0c-bb2b-0a1a5d56ac49"
      },
      "execution_count": 37,
      "outputs": [
        {
          "output_type": "execute_result",
          "data": {
            "text/plain": [
              "0    321964\n",
              "1      2571\n",
              "Name: target, dtype: int64"
            ]
          },
          "metadata": {},
          "execution_count": 37
        }
      ]
    },
    {
      "cell_type": "code",
      "source": [
        "# fill NA by using median of target is 1\n",
        "condition = data['target'].eq(1)\n",
        "data_temp = data.loc[condition]\n",
        "\n",
        "condition = data['target'].eq(0) & data['netdisposableincome'].isna()\n",
        "data = data.loc[~condition]\n",
        "\n",
        "data['passscoringflag'] = data['passscoringflag'].fillna(data_temp['passscoringflag'].median())\n",
        "data['finalscore'] = data['finalscore'].fillna(data_temp['finalscore'].median())\n",
        "data['currentrepaymentratio'] = data['currentrepaymentratio'].fillna(data_temp['currentrepaymentratio'].median())\n",
        "data['newdsr'] = data['newdsr'].fillna(data_temp['newdsr'].median())\n",
        "data['scorerank'].fillna(data_temp['scorerank'].mode()[0])\n",
        "data['newrepaymentratio'] = data['newrepaymentratio'].fillna(data_temp['newrepaymentratio'].median())\n",
        "data['netdisposableincome'] = data['netdisposableincome'].fillna(data_temp['netdisposableincome'].median())\n",
        " \n",
        "# fill NA by using median\n",
        "data[['grosssalary', 'nettsalary', 'annualincome', 'yearofservices']] = data[['grosssalary', 'nettsalary', 'annualincome', 'yearofservices']].fillna(data[['grosssalary', 'nettsalary', 'annualincome', 'yearofservices']].median())\n",
        "\n",
        "# fill NA by using mode\n",
        "data['businessnature'].fillna(data['businessnature'].mode()[0])\n",
        "data['jobtitle'].fillna(data['jobtitle'].mode()[0])\n",
        "data['residencystatus'].fillna(data['residencystatus'].mode()[0])\n",
        "data['paysliptype'].fillna(data['paysliptype'].mode()[0])\n",
        "\n",
        "#fill NA by using \"0\"\n",
        "data[['numberofdependent', 'employmenttype']] = data[['numberofdependent', 'employmenttype']].fillna('0')\n",
        "\n",
        "#fill NA by using \"Unknown\"\n",
        "data[['staywith']] = data[['staywith']].fillna('unknown')\n",
        "\n",
        "# replace inconsistence value\n",
        "data['residentialstatecode'] = data['residentialstatecode'].replace(['KUALA LUMPUR'],['WP Kuala Lumpur'])\n",
        "data['employerstatecode'] = data['employerstatecode'].replace(['KUALA LUMPUR'],['WP Kuala Lumpur'])\n",
        "\n",
        "data.at[207914,'residentialcity']='Sibu'\n",
        "data.at[207914,'residentialstatecode']='Sarawak'\n",
        "data.at[207914,'residentialpostcode']='96000'\n",
        "data.at[207914,'employerstatecode']='Sarawak'\n",
        "\n",
        "data.at[103021,'residentialcity']='Alor Setar'\n",
        "data.at[103021,'residentialstatecode']='Kedah'\n",
        "data.at[103021,'residentialpostcode']='05400'\n",
        "data.at[103021,'employerstatecode']='WP Kuala Lumpur'\n",
        "\n",
        "data.at[328413,'residentialstatecode']='Pahang'\n",
        "\n",
        "data.at[149469,'residentialcity']='Tanah Merah'\n",
        "data.at[149469,'residentialstatecode']='Kelantan'\n",
        "data.at[149469,'employerstatecode']='Kelantan'\n",
        "\n",
        "# replace gen"
      ],
      "metadata": {
        "id": "-ShO1ccq4xop"
      },
      "execution_count": null,
      "outputs": []
    },
    {
      "cell_type": "code",
      "source": [
        "#fill Na as 0 for 'first_eppfhistory'\n",
        "data['first_eppfhistory'] =  data['first_eppfhistory'].fillna('9999')\n",
        "data['first_eppfhistory'] = data['first_eppfhistory'].astype(int)\n",
        "data.isnull().sum()"
      ],
      "metadata": {
        "id": "MgL9nG15fo38",
        "colab": {
          "base_uri": "https://localhost:8080/"
        },
        "outputId": "a1be9aee-ea96-4c2c-9c5c-813cc4ffd6cc"
      },
      "execution_count": 17,
      "outputs": [
        {
          "output_type": "execute_result",
          "data": {
            "text/plain": [
              "#customernumber                  0\n",
              "sex                              0\n",
              "calc_customerinfo_age            0\n",
              "nationality                      0\n",
              "residencystatus                178\n",
              "race                             0\n",
              "maritalstatus                    0\n",
              "staywith                         0\n",
              "numberofdependent                0\n",
              "employmenttype                   0\n",
              "businessnature                   1\n",
              "residentialpostcode              0\n",
              "residentialstatecode             0\n",
              "residentialcity                  0\n",
              "employerstatecode                0\n",
              "jobtitle                        11\n",
              "yearofservices                   0\n",
              "grosssalary                      0\n",
              "nettsalary                       0\n",
              "annualincome                     0\n",
              "paysliptype                    233\n",
              "totalapplicationcount            0\n",
              "epcreditlostcount                0\n",
              "epactivecount                    0\n",
              "akpk                             0\n",
              "fraud                            0\n",
              "riskgroup                        0\n",
              "productlimitoutstanding          0\n",
              "eppflimitoutstanding             0\n",
              "commitmentnetsalary              0\n",
              "totalcommitment                  0\n",
              "totalinstallment                 0\n",
              "nonbankcommitment                0\n",
              "first_eppfhistory                0\n",
              "passscoringflag                  0\n",
              "finalscore                       0\n",
              "currentrepaymentratio            0\n",
              "newdsr                           0\n",
              "scorerank                     3198\n",
              "newrepaymentratio                0\n",
              "netdisposableincome              0\n",
              "min_cashprice                    0\n",
              "average_cashprice                0\n",
              "max_cashprice                    0\n",
              "min_financeprice                 0\n",
              "average_financeprice             0\n",
              "max_financeprice                 0\n",
              "average_interest                 0\n",
              "average_term                     0\n",
              "average_monthly_instalment       0\n",
              "total_approved_record            0\n",
              "total_declined_record            0\n",
              "app_channel_online               0\n",
              "app_channel_offline              0\n",
              "app_channel_internal             0\n",
              "target                           0\n",
              "dtype: int64"
            ]
          },
          "metadata": {},
          "execution_count": 17
        }
      ]
    },
    {
      "cell_type": "code",
      "source": [
        "# Define function to take largest digit from a number\n",
        "def Largestdigit(n):\n",
        "   largest_digit = 0\n",
        "   smallest_digit = 9\n",
        "   while (n):\n",
        "       digit = n % 10\n",
        "       # largest digit\n",
        "       largest_digit = max(digit, largest_digit)\n",
        "       n = n // 10\n",
        "   return largest_digit"
      ],
      "metadata": {
        "id": "xRNiXphchSmR"
      },
      "execution_count": 18,
      "outputs": []
    },
    {
      "cell_type": "code",
      "source": [
        "data['first_eppfhistory'] = data['first_eppfhistory'].apply(Largestdigit)"
      ],
      "metadata": {
        "id": "aA-wfxvih8EZ"
      },
      "execution_count": 19,
      "outputs": []
    },
    {
      "cell_type": "code",
      "source": [
        "data['target'].value_counts(normalize=True)"
      ],
      "metadata": {
        "id": "ewpU07vgvSE8",
        "colab": {
          "base_uri": "https://localhost:8080/"
        },
        "outputId": "53bacdaa-c28e-4a80-f531-52b3a10a581e"
      },
      "execution_count": 20,
      "outputs": [
        {
          "output_type": "execute_result",
          "data": {
            "text/plain": [
              "0    0.980348\n",
              "1    0.019652\n",
              "Name: target, dtype: float64"
            ]
          },
          "metadata": {},
          "execution_count": 20
        }
      ]
    },
    {
      "cell_type": "code",
      "source": [
        "#from google.colab import files\n",
        "#data.to_csv('output.csv', encoding = 'utf-8-sig') \n",
        "#files.download('output.csv')"
      ],
      "metadata": {
        "id": "Ml2R9ikQ_ExY"
      },
      "execution_count": 21,
      "outputs": []
    }
  ]
}